{
 "cells": [
  {
   "cell_type": "code",
   "execution_count": 24,
   "metadata": {},
   "outputs": [],
   "source": [
    "from arviz.data.base import generate_dims_coords\n",
    "from arviz.data.converters import convert_to_inference_data\n",
    "from line_profiler import LineProfiler\n",
    "import numpy as np\n",
    "from numpy import array, average, dot\n",
    "import numba\n",
    "from copy import deepcopy\n",
    "import datetime\n",
    "import warnings\n",
    "from arviz.plots.kdeplot import _fast_kde_2d as f2\n",
    "import numpy as np\n",
    "import pkg_resources\n",
    "import xarray as xr\n",
    "import timeit\n",
    "from scipy.signal import gaussian, convolve, convolve2d  # pylint: disable=no-name-in-module\n",
    "from scipy.sparse import coo_matrix"
   ]
  },
  {
   "cell_type": "code",
   "execution_count": 2,
   "metadata": {},
   "outputs": [
    {
     "name": "stdout",
     "output_type": "stream",
     "text": [
      "Timer unit: 1e-06 s\n",
      "\n",
      "Total time: 0.000288 s\n",
      "File: /home/banzee/Desktop/arviz/arviz/data/base.py\n",
      "Function: generate_dims_coords at line 30\n",
      "\n",
      "Line #      Hits         Time  Per Hit   % Time  Line Contents\n",
      "==============================================================\n",
      "    30                                           def generate_dims_coords(shape, var_name, dims=None, coords=None, default_dims=None):\n",
      "    31                                               \"\"\"Generate default dimensions and coordinates for a variable.\n",
      "    32                                           \n",
      "    33                                               Parameters\n",
      "    34                                               ----------\n",
      "    35                                               shape : tuple[int]\n",
      "    36                                                   Shape of the variable\n",
      "    37                                               var_name : str\n",
      "    38                                                   Name of the variable. Used in the default name, if necessary\n",
      "    39                                               dims : list\n",
      "    40                                                   List of dimensions for the variable\n",
      "    41                                               coords : dict[str] -> list[str]\n",
      "    42                                                   Map of dimensions to coordinates\n",
      "    43                                               default_dims : list[str]\n",
      "    44                                                   Dimensions that do not apply to the variable's shape\n",
      "    45                                           \n",
      "    46                                               Returns\n",
      "    47                                               -------\n",
      "    48                                               list[str]\n",
      "    49                                                   Default dims\n",
      "    50                                               dict[str] -> list[str]\n",
      "    51                                                   Default coords\n",
      "    52                                               \"\"\"\n",
      "    53         1          5.0      5.0      1.7      if default_dims is None:\n",
      "    54         1          3.0      3.0      1.0          default_dims = []\n",
      "    55         1          2.0      2.0      0.7      if dims is None:\n",
      "    56         1          2.0      2.0      0.7          dims = []\n",
      "    57         1         14.0     14.0      4.9      if len([dim for dim in dims if dim not in default_dims]) > len(shape):\n",
      "    58                                                   warnings.warn(\n",
      "    59                                                       (\n",
      "    60                                                           \"In variable {var_name}, there are \"\n",
      "    61                                                           + \"more dims ({dims_len}) given than exist ({shape_len}). \"\n",
      "    62                                                           + \"Passed array should have shape (chains, draws, *shape)\"\n",
      "    63                                                       ).format(var_name=var_name, dims_len=len(dims), shape_len=len(shape)),\n",
      "    64                                                       SyntaxWarning,\n",
      "    65                                                   )\n",
      "    66         1          1.0      1.0      0.3      if coords is None:\n",
      "    67         1          3.0      3.0      1.0          coords = {}\n",
      "    68                                           \n",
      "    69         1         84.0     84.0     29.2      coords = deepcopy(coords)\n",
      "    70         1         21.0     21.0      7.3      dims = deepcopy(dims)\n",
      "    71                                           \n",
      "    72         4         14.0      3.5      4.9      for idx, dim_len in enumerate(shape):\n",
      "    73         3          7.0      2.3      2.4          if (len(dims) < idx + 1) or (dims[idx] is None):\n",
      "    74         3         47.0     15.7     16.3              dim_name = \"{var_name}_dim_{idx}\".format(var_name=var_name, idx=idx)\n",
      "    75         3          7.0      2.3      2.4              if len(dims) < idx + 1:\n",
      "    76         3          4.0      1.3      1.4                  dims.append(dim_name)\n",
      "    77                                                       else:\n",
      "    78                                                           dims[idx] = dim_name\n",
      "    79         3          5.0      1.7      1.7          dim_name = dims[idx]\n",
      "    80         3          4.0      1.3      1.4          if dim_name not in coords:\n",
      "    81         3         44.0     14.7     15.3              coords[dim_name] = np.arange(dim_len)\n",
      "    82         1         20.0     20.0      6.9      coords = {key: coord for key, coord in coords.items() if any(key == dim for dim in dims)}\n",
      "    83         1          1.0      1.0      0.3      return dims, coords\n",
      "\n"
     ]
    }
   ],
   "source": [
    "lp = LineProfiler()\n",
    "wrapper = lp(generate_dims_coords)\n",
    "wrapper((500,600,80), 'x')\n",
    "lp.print_stats()"
   ]
  },
  {
   "cell_type": "code",
   "execution_count": 3,
   "metadata": {},
   "outputs": [],
   "source": [
    "@numba.njit\n",
    "def range_(x):\n",
    "    return np.arange(x)\n",
    "\n",
    "\n",
    "def range_jit(x):\n",
    "    return np.arange(x)"
   ]
  },
  {
   "cell_type": "code",
   "execution_count": 4,
   "metadata": {},
   "outputs": [
    {
     "name": "stdout",
     "output_type": "stream",
     "text": [
      "The slowest run took 6.99 times longer than the fastest. This could mean that an intermediate result is being cached.\n",
      "6.34 µs ± 6.31 µs per loop (mean ± std. dev. of 7 runs, 1 loop each)\n"
     ]
    }
   ],
   "source": [
    "%timeit range_(100)"
   ]
  },
  {
   "cell_type": "code",
   "execution_count": 5,
   "metadata": {},
   "outputs": [
    {
     "name": "stdout",
     "output_type": "stream",
     "text": [
      "1.33 µs ± 72.9 ns per loop (mean ± std. dev. of 7 runs, 1000000 loops each)\n"
     ]
    }
   ],
   "source": [
    "%timeit range_jit(100)"
   ]
  },
  {
   "cell_type": "code",
   "execution_count": 6,
   "metadata": {},
   "outputs": [],
   "source": [
    "def generate_dims_coords(shape, var_name, dims=None, coords=None, default_dims=None):\n",
    "    if default_dims is None:\n",
    "        default_dims = []\n",
    "    if dims is None:\n",
    "        dims = []\n",
    "    if len([dim for dim in dims if dim not in default_dims]) > len(shape):\n",
    "        warnings.warn(\n",
    "            (\n",
    "                \"In variable {var_name}, there are \"\n",
    "                + \"more dims ({dims_len}) given than exist ({shape_len}). \"\n",
    "                + \"Passed array should have shape (chains, draws, *shape)\"\n",
    "            ).format(var_name=var_name, dims_len=len(dims), shape_len=len(shape)),\n",
    "            SyntaxWarning,\n",
    "        )\n",
    "    if coords is None:\n",
    "        coords = {}\n",
    "\n",
    "    coords = deepcopy(coords)\n",
    "    dims = deepcopy(dims)\n",
    "\n",
    "    for idx, dim_len in enumerate(shape):\n",
    "        if (len(dims) < idx + 1) or (dims[idx] is None):\n",
    "            dim_name = \"{var_name}_dim_{idx}\".format(var_name=var_name, idx=idx)\n",
    "            if len(dims) < idx + 1:\n",
    "                dims.append(dim_name)\n",
    "            else:\n",
    "                dims[idx] = dim_name\n",
    "        dim_name = dims[idx]\n",
    "        if dim_name not in coords:\n",
    "            coords[dim_name] = np.arange(dim_len)\n",
    "    coords = {key: coord for key, coord in coords.items() if any(key == dim for dim in dims)}\n",
    "    return dims, coords\n",
    "\n",
    "\n",
    "\n",
    "def generate_dims_coords_jit(shape, var_name, dims=None, coords=None, default_dims=None):\n",
    "    if default_dims is None:\n",
    "        default_dims = []\n",
    "    if dims is None:\n",
    "        dims = []\n",
    "    if len([dim for dim in dims if dim not in default_dims]) > len(shape):\n",
    "        warnings.warn(\n",
    "            (\n",
    "                \"In variable {var_name}, there are \"\n",
    "                + \"more dims ({dims_len}) given than exist ({shape_len}). \"\n",
    "                + \"Passed array should have shape (chains, draws, *shape)\"\n",
    "            ).format(var_name=var_name, dims_len=len(dims), shape_len=len(shape)),\n",
    "            SyntaxWarning,\n",
    "        )\n",
    "    if coords is None:\n",
    "        coords = {}\n",
    "\n",
    "    coords = deepcopy(coords)\n",
    "    dims = deepcopy(dims)\n",
    "\n",
    "    for idx, dim_len in enumerate(shape):\n",
    "        if (len(dims) < idx + 1) or (dims[idx] is None):\n",
    "            dim_name = \"{var_name}_dim_{idx}\".format(var_name=var_name, idx=idx)\n",
    "            if len(dims) < idx + 1:\n",
    "                dims.append(dim_name)\n",
    "            else:\n",
    "                dims[idx] = dim_name\n",
    "        dim_name = dims[idx]\n",
    "        if dim_name not in coords:\n",
    "            coords[dim_name] = range_(dim_len)\n",
    "    coords = {key: coord for key, coord in coords.items() if any(key == dim for dim in dims)}\n",
    "    return dims, coords\n"
   ]
  },
  {
   "cell_type": "code",
   "execution_count": 7,
   "metadata": {},
   "outputs": [
    {
     "name": "stdout",
     "output_type": "stream",
     "text": [
      "54.7 µs ± 3.2 µs per loop (mean ± std. dev. of 7 runs, 10000 loops each)\n"
     ]
    }
   ],
   "source": [
    "%timeit generate_dims_coords((10000,10000), 'x')"
   ]
  },
  {
   "cell_type": "code",
   "execution_count": 8,
   "metadata": {},
   "outputs": [
    {
     "name": "stdout",
     "output_type": "stream",
     "text": [
      "31.5 µs ± 718 ns per loop (mean ± std. dev. of 7 runs, 10000 loops each)\n"
     ]
    }
   ],
   "source": [
    "%timeit generate_dims_coords_jit((10000,10000), 'x')"
   ]
  },
  {
   "cell_type": "code",
   "execution_count": 9,
   "metadata": {},
   "outputs": [
    {
     "name": "stdout",
     "output_type": "stream",
     "text": [
      "17.6 µs ± 155 ns per loop (mean ± std. dev. of 7 runs, 100000 loops each)\n"
     ]
    }
   ],
   "source": [
    "%timeit generate_dims_coords((10,190), 'x')"
   ]
  },
  {
   "cell_type": "code",
   "execution_count": 10,
   "metadata": {},
   "outputs": [
    {
     "name": "stdout",
     "output_type": "stream",
     "text": [
      "18.9 µs ± 1.98 µs per loop (mean ± std. dev. of 7 runs, 100000 loops each)\n"
     ]
    }
   ],
   "source": [
    "%timeit generate_dims_coords_jit((10,190), 'x')"
   ]
  },
  {
   "cell_type": "code",
   "execution_count": 11,
   "metadata": {},
   "outputs": [],
   "source": [
    "def numpy_to_data_array(ary, *, var_name=\"data\", coords=None, dims=None):\n",
    "    # manage and transform copies\n",
    "    default_dims = [\"chain\", \"draw\"]\n",
    "    ary = np.atleast_2d(ary)\n",
    "    n_chains, n_samples, *shape = ary.shape\n",
    "    if n_chains > n_samples:\n",
    "        warnings.warn(\n",
    "            \"More chains ({n_chains}) than draws ({n_samples}). \"\n",
    "            \"Passed array should have shape (chains, draws, *shape)\".format(\n",
    "                n_chains=n_chains, n_samples=n_samples\n",
    "            ),\n",
    "            SyntaxWarning,\n",
    "        )\n",
    "\n",
    "    dims, coords = generate_dims_coords(\n",
    "        shape, var_name, dims=dims, coords=coords, default_dims=default_dims\n",
    "    )\n",
    "\n",
    "    # reversed order for default dims: 'chain', 'draw'\n",
    "    if \"draw\" not in dims:\n",
    "        dims = [\"draw\"] + dims\n",
    "    if \"chain\" not in dims:\n",
    "        dims = [\"chain\"] + dims\n",
    "\n",
    "    if \"chain\" not in coords:\n",
    "        coords[\"chain\"] = np.arange(n_chains)\n",
    "    if \"draw\" not in coords:\n",
    "        coords[\"draw\"] = np.arange(n_samples)\n",
    "\n",
    "    # filter coords based on the dims\n",
    "    coords = {key: xr.IndexVariable((key,), data=coords[key]) for key in dims}\n",
    "    return xr.DataArray(ary, coords=coords, dims=dims)\n",
    "\n",
    "\n",
    "def numpy_to_data_array_jit(ary, *, var_name=\"data\", coords=None, dims=None):\n",
    "    # manage and transform copies\n",
    "    default_dims = [\"chain\", \"draw\"]\n",
    "    ary = np.atleast_2d(ary)\n",
    "    n_chains, n_samples, *shape = ary.shape\n",
    "    if n_chains > n_samples:\n",
    "        warnings.warn(\n",
    "            \"More chains ({n_chains}) than draws ({n_samples}). \"\n",
    "            \"Passed array should have shape (chains, draws, *shape)\".format(\n",
    "                n_chains=n_chains, n_samples=n_samples\n",
    "            ),\n",
    "            SyntaxWarning,\n",
    "        )\n",
    "\n",
    "    dims, coords = generate_dims_coords_jit(\n",
    "        shape, var_name, dims=dims, coords=coords, default_dims=default_dims\n",
    "    )\n",
    "\n",
    "    # reversed order for default dims: 'chain', 'draw'\n",
    "    if \"draw\" not in dims:\n",
    "        dims = [\"draw\"] + dims\n",
    "    if \"chain\" not in dims:\n",
    "        dims = [\"chain\"] + dims\n",
    "\n",
    "    if \"chain\" not in coords:\n",
    "        coords[\"chain\"] = range_(n_chains)\n",
    "    if \"draw\" not in coords:\n",
    "        coords[\"draw\"] = range_(n_samples)\n",
    "\n",
    "    # filter coords based on the dims\n",
    "    coords = {key: xr.IndexVariable((key,), data=coords[key]) for key in dims}\n",
    "    return xr.DataArray(ary, coords=coords, dims=dims)"
   ]
  },
  {
   "cell_type": "code",
   "execution_count": 12,
   "metadata": {},
   "outputs": [],
   "source": [
    "data = np.random.randn(10000,100)\n",
    "linear = np.random.randn(1000000)\n",
    "small = np.random.randn(100,100)"
   ]
  },
  {
   "cell_type": "code",
   "execution_count": 13,
   "metadata": {},
   "outputs": [
    {
     "name": "stderr",
     "output_type": "stream",
     "text": [
      "/home/banzee/anaconda3/lib/python3.6/site-packages/ipykernel_launcher.py:12: SyntaxWarning: More chains (10000) than draws (100). Passed array should have shape (chains, draws, *shape)\n",
      "  if sys.path[0] == '':\n"
     ]
    },
    {
     "name": "stdout",
     "output_type": "stream",
     "text": [
      "360 µs ± 27.7 µs per loop (mean ± std. dev. of 7 runs, 1000 loops each)\n"
     ]
    }
   ],
   "source": [
    "%timeit numpy_to_data_array(data)"
   ]
  },
  {
   "cell_type": "code",
   "execution_count": 14,
   "metadata": {},
   "outputs": [
    {
     "name": "stderr",
     "output_type": "stream",
     "text": [
      "/home/banzee/anaconda3/lib/python3.6/site-packages/ipykernel_launcher.py:46: SyntaxWarning: More chains (10000) than draws (100). Passed array should have shape (chains, draws, *shape)\n"
     ]
    },
    {
     "name": "stdout",
     "output_type": "stream",
     "text": [
      "355 µs ± 24 µs per loop (mean ± std. dev. of 7 runs, 1000 loops each)\n"
     ]
    }
   ],
   "source": [
    "%timeit numpy_to_data_array_jit(data)"
   ]
  },
  {
   "cell_type": "code",
   "execution_count": 15,
   "metadata": {},
   "outputs": [
    {
     "name": "stdout",
     "output_type": "stream",
     "text": [
      "2.31 ms ± 149 µs per loop (mean ± std. dev. of 7 runs, 100 loops each)\n"
     ]
    }
   ],
   "source": [
    "%timeit numpy_to_data_array(linear)"
   ]
  },
  {
   "cell_type": "code",
   "execution_count": 16,
   "metadata": {},
   "outputs": [
    {
     "name": "stdout",
     "output_type": "stream",
     "text": [
      "2.2 ms ± 16.2 µs per loop (mean ± std. dev. of 7 runs, 100 loops each)\n"
     ]
    }
   ],
   "source": [
    "%timeit numpy_to_data_array_jit(linear)"
   ]
  },
  {
   "cell_type": "code",
   "execution_count": 17,
   "metadata": {},
   "outputs": [
    {
     "name": "stdout",
     "output_type": "stream",
     "text": [
      "314 µs ± 7.9 µs per loop (mean ± std. dev. of 7 runs, 1000 loops each)\n"
     ]
    }
   ],
   "source": [
    "%timeit numpy_to_data_array(small)"
   ]
  },
  {
   "cell_type": "code",
   "execution_count": 18,
   "metadata": {},
   "outputs": [
    {
     "name": "stdout",
     "output_type": "stream",
     "text": [
      "311 µs ± 11.6 µs per loop (mean ± std. dev. of 7 runs, 1000 loops each)\n"
     ]
    }
   ],
   "source": [
    "%timeit numpy_to_data_array_jit(small)"
   ]
  },
  {
   "cell_type": "code",
   "execution_count": 19,
   "metadata": {},
   "outputs": [
    {
     "data": {
      "text/plain": [
       "'Very Similar Performance. Up for reconsideration'"
      ]
     },
     "execution_count": 19,
     "metadata": {},
     "output_type": "execute_result"
    }
   ],
   "source": [
    "'Very Similar Performance. Up for reconsideration'"
   ]
  },
  {
   "cell_type": "code",
   "execution_count": null,
   "metadata": {},
   "outputs": [],
   "source": [
    "# Dict to dataset bottleneck ---> numpy_to_ndarray"
   ]
  },
  {
   "cell_type": "code",
   "execution_count": 23,
   "metadata": {},
   "outputs": [
    {
     "data": {
      "text/plain": [
       "'\"Converters'"
      ]
     },
     "execution_count": 23,
     "metadata": {},
     "output_type": "execute_result"
    }
   ],
   "source": [
    "\"\"\"\"\"\"\"\"\"\"\"\"\"\"\"\"\"\"\"\"\"\"\"\"\"\"\"\"\"\"\"\"\"\"\"\"\"\"\"\"\"\"\"\"\"\"Converters\"\"\"\"\"\"\"\"\"\"\"\"\"\"\"\"\"\"\"\"\"\"\"\"\"\"\"\"\"\"\"\"\"\"\"\"\"\"\"\"\"\"\"\"\"\"\"\"\"\"\"\"\"\"\"\"\"\"\"\"\"\"\"\"\""
   ]
  },
  {
   "cell_type": "code",
   "execution_count": 25,
   "metadata": {},
   "outputs": [],
   "source": [
    "data = np.random.randn(10000,100)"
   ]
  },
  {
   "cell_type": "code",
   "execution_count": 26,
   "metadata": {},
   "outputs": [
    {
     "name": "stdout",
     "output_type": "stream",
     "text": [
      "Timer unit: 1e-06 s\n",
      "\n",
      "Total time: 0.006499 s\n",
      "File: /home/banzee/Desktop/arviz/arviz/data/converters.py\n",
      "Function: convert_to_inference_data at line 16\n",
      "\n",
      "Line #      Hits         Time  Per Hit   % Time  Line Contents\n",
      "==============================================================\n",
      "    16                                           def convert_to_inference_data(obj, *, group=\"posterior\", coords=None, dims=None, **kwargs):\n",
      "    17                                               r\"\"\"Convert a supported object to an InferenceData object.\n",
      "    18                                           \n",
      "    19                                               This function sends `obj` to the right conversion function. It is idempotent,\n",
      "    20                                               in that it will return arviz.InferenceData objects unchanged.\n",
      "    21                                           \n",
      "    22                                               Parameters\n",
      "    23                                               ----------\n",
      "    24                                               obj : dict, str, np.ndarray, xr.Dataset, pystan fit, pymc3 trace\n",
      "    25                                                   A supported object to convert to InferenceData:\n",
      "    26                                                       | InferenceData: returns unchanged\n",
      "    27                                                       | str: Attempts to load the cmdstan csv or netcdf dataset from disk\n",
      "    28                                                       | pystan fit: Automatically extracts data\n",
      "    29                                                       | cmdstanpy fit: Automatically extracts data\n",
      "    30                                                       | cmdstan csv-list: Automatically extracts data\n",
      "    31                                                       | pymc3 trace: Automatically extracts data\n",
      "    32                                                       | emcee sampler: Automatically extracts data\n",
      "    33                                                       | pyro MCMC: Automatically extracts data\n",
      "    34                                                       | xarray.Dataset: adds to InferenceData as only group\n",
      "    35                                                       | dict: creates an xarray dataset as the only group\n",
      "    36                                                       | numpy array: creates an xarray dataset as the only group, gives the\n",
      "    37                                                                    array an arbitrary name\n",
      "    38                                               group : str\n",
      "    39                                                   If `obj` is a dict or numpy array, assigns the resulting xarray\n",
      "    40                                                   dataset to this group. Default: \"posterior\".\n",
      "    41                                               coords : dict[str, iterable]\n",
      "    42                                                   A dictionary containing the values that are used as index. The key\n",
      "    43                                                   is the name of the dimension, the values are the index values.\n",
      "    44                                               dims : dict[str, List(str)]\n",
      "    45                                                   A mapping from variables to a list of coordinate names for the variable\n",
      "    46                                               kwargs\n",
      "    47                                                   Rest of the supported keyword arguments transferred to conversion function.\n",
      "    48                                           \n",
      "    49                                               Returns\n",
      "    50                                               -------\n",
      "    51                                               InferenceData\n",
      "    52                                               \"\"\"\n",
      "    53         1          6.0      6.0      0.1      kwargs[group] = obj\n",
      "    54         1          5.0      5.0      0.1      kwargs[\"coords\"] = coords\n",
      "    55         1          3.0      3.0      0.0      kwargs[\"dims\"] = dims\n",
      "    56                                           \n",
      "    57                                               # Cases that convert to InferenceData\n",
      "    58         1          6.0      6.0      0.1      if isinstance(obj, InferenceData):\n",
      "    59                                                   return obj\n",
      "    60         1          5.0      5.0      0.1      elif isinstance(obj, str):\n",
      "    61                                                   if obj.endswith(\".csv\"):\n",
      "    62                                                       if group == \"sample_stats\":\n",
      "    63                                                           kwargs[\"posterior\"] = kwargs.pop(group)\n",
      "    64                                                       elif group == \"sample_stats_prior\":\n",
      "    65                                                           kwargs[\"prior\"] = kwargs.pop(group)\n",
      "    66                                                       return from_cmdstan(**kwargs)\n",
      "    67                                                   else:\n",
      "    68                                                       return InferenceData.from_netcdf(obj)\n",
      "    69                                               elif (\n",
      "    70         1         10.0     10.0      0.2          obj.__class__.__name__ in {\"StanFit4Model\", \"RunSet\"}\n",
      "    71         1          6.0      6.0      0.1          or obj.__class__.__module__ == \"stan.fit\"\n",
      "    72                                               ):\n",
      "    73                                                   if group == \"sample_stats\":\n",
      "    74                                                       kwargs[\"posterior\"] = kwargs.pop(group)\n",
      "    75                                                   elif group == \"sample_stats_prior\":\n",
      "    76                                                       kwargs[\"prior\"] = kwargs.pop(group)\n",
      "    77                                                   if obj.__class__.__name__ == \"RunSet\":\n",
      "    78                                                       return from_cmdstanpy(**kwargs)\n",
      "    79                                                   else:  # pystan or pystan3\n",
      "    80                                                       return from_pystan(**kwargs)\n",
      "    81         1          3.0      3.0      0.0      elif obj.__class__.__name__ == \"MultiTrace\":  # ugly, but doesn't make PyMC3 a requirement\n",
      "    82                                                   return from_pymc3(trace=kwargs.pop(group), **kwargs)\n",
      "    83         1          4.0      4.0      0.1      elif obj.__class__.__name__ == \"EnsembleSampler\":  # ugly, but doesn't make emcee a requirement\n",
      "    84                                                   return from_emcee(sampler=kwargs.pop(group), **kwargs)\n",
      "    85         1          3.0      3.0      0.0      elif obj.__class__.__name__ == \"MCMC\" and obj.__class__.__module__.startswith(\"pyro\"):\n",
      "    86                                                   return from_pyro(posterior=kwargs.pop(group), **kwargs)\n",
      "    87                                           \n",
      "    88                                               # Cases that convert to xarray\n",
      "    89         1        162.0    162.0      2.5      if isinstance(obj, xr.Dataset):\n",
      "    90                                                   dataset = obj\n",
      "    91         1          5.0      5.0      0.1      elif isinstance(obj, dict):\n",
      "    92                                                   dataset = dict_to_dataset(obj, coords=coords, dims=dims)\n",
      "    93         1          4.0      4.0      0.1      elif isinstance(obj, np.ndarray):\n",
      "    94         1       6260.0   6260.0     96.3          dataset = dict_to_dataset({\"x\": obj}, coords=coords, dims=dims)\n",
      "    95                                               elif isinstance(obj, (list, tuple)) and isinstance(obj[0], str) and obj[0].endswith(\".csv\"):\n",
      "    96                                                   if group == \"sample_stats\":\n",
      "    97                                                       kwargs[\"posterior\"] = kwargs.pop(group)\n",
      "    98                                                   elif group == \"sample_stats_prior\":\n",
      "    99                                                       kwargs[\"prior\"] = kwargs.pop(group)\n",
      "   100                                                   return from_cmdstan(**kwargs)\n",
      "   101                                               else:\n",
      "   102                                                   allowable_types = (\n",
      "   103                                                       \"xarray dataset\",\n",
      "   104                                                       \"dict\",\n",
      "   105                                                       \"netcdf file\",\n",
      "   106                                                       \"numpy array\",\n",
      "   107                                                       \"pystan fit\",\n",
      "   108                                                       \"pymc3 trace\",\n",
      "   109                                                       \"emcee fit\",\n",
      "   110                                                       \"pyro mcmc fit\",\n",
      "   111                                                       \"cmdstan fit csv\",\n",
      "   112                                                       \"cmdstanpy fit\",\n",
      "   113                                                   )\n",
      "   114                                                   raise ValueError(\n",
      "   115                                                       \"Can only convert {} to InferenceData, not {}\".format(\n",
      "   116                                                           \", \".join(allowable_types), obj.__class__.__name__\n",
      "   117                                                       )\n",
      "   118                                                   )\n",
      "   119                                           \n",
      "   120         1         17.0     17.0      0.3      return InferenceData(**{group: dataset})\n",
      "\n"
     ]
    },
    {
     "name": "stderr",
     "output_type": "stream",
     "text": [
      "/home/banzee/Desktop/arviz/arviz/data/base.py:124: SyntaxWarning: More chains (10000) than draws (100). Passed array should have shape (chains, draws, *shape)\n",
      "  SyntaxWarning,\n"
     ]
    }
   ],
   "source": [
    "lp = LineProfiler()\n",
    "wrapper = lp(convert_to_inference_data)\n",
    "wrapper(data)\n",
    "lp.print_stats()"
   ]
  },
  {
   "cell_type": "code",
   "execution_count": null,
   "metadata": {},
   "outputs": [],
   "source": [
    "# Bottleneck is dict to dataset. Refer above"
   ]
  },
  {
   "cell_type": "code",
   "execution_count": 28,
   "metadata": {},
   "outputs": [
    {
     "data": {
      "text/plain": [
       "'\"DATASETS.PY'"
      ]
     },
     "execution_count": 28,
     "metadata": {},
     "output_type": "execute_result"
    }
   ],
   "source": [
    "\"\"\"\"\"\"\"\"\"\"\"\"\"\"\"\"\"\"\"\"\"\"\"\"\"\"\"\"\"\"\"\"\"\"\"\"\"\"\"\"\"\"\"\"\"\"\"\"\"\"\"\"DATASETS.PY\"\"\"\"\"\"\"\"\"\"\"\"\"\"\"\"\"\"\"\"\"\"\"\"\"\"\"\"\"\"\"\"\"\"\"\"\"\"\"\"\"\"\"\"\"\"\"\"\"\"\"\"\"\"\"\"\"\"\""
   ]
  },
  {
   "cell_type": "code",
   "execution_count": 29,
   "metadata": {},
   "outputs": [],
   "source": [
    "# Nothing to improve here"
   ]
  },
  {
   "cell_type": "code",
   "execution_count": 30,
   "metadata": {},
   "outputs": [
    {
     "data": {
      "text/plain": [
       "'\"\"io_dict\"\"'"
      ]
     },
     "execution_count": 30,
     "metadata": {},
     "output_type": "execute_result"
    }
   ],
   "source": [
    "\"\"\"\"\"\"\"\"\"\"\"\"\"\"\"\"\"\"\"\"\"\"\"\"\"\"\"\"\"\"\"\"\"\"\"\"\"\"\"\"\"\"\"\"\"\"\"\"\"\"\"\"\"io_dict\"\"\"\"\"\"\"\"\"\"\"\"\"\"\"\"\"\"\"\"\"\"\"\"\"\"\"\"\"\"\"\"\"\"\"\"\"\"\"\"\"\"\"\"\"\"\"\"\"\"\"\"\"\"\"\"\"'\"\"'"
   ]
  },
  {
   "cell_type": "code",
   "execution_count": 31,
   "metadata": {},
   "outputs": [],
   "source": [
    "# Bottleneck is dict to dataset. Refer above"
   ]
  },
  {
   "cell_type": "code",
   "execution_count": 38,
   "metadata": {},
   "outputs": [
    {
     "data": {
      "text/plain": [
       "'\"\"io_netcdf'"
      ]
     },
     "execution_count": 38,
     "metadata": {},
     "output_type": "execute_result"
    }
   ],
   "source": [
    "\"\"\"\"\"\"\"\"\"\"\"\"\"\"\"\"\"\"\"\"\"\"\"\"\"\"\"\"\"\"\"\"\"\"\"\"\"\"\"\"\"io_netcdf\"\"\"\"\"\"\"\"\"\"\"\"\"\"\"\"\"\"\"\"\"\"\"\"\"\"\"\"\"\"\"\"\"\"\"\"\"\"\"\"\"\"\"\"\"\"\"\"\"\"\"\"\"\"\"\"\""
   ]
  },
  {
   "cell_type": "code",
   "execution_count": 39,
   "metadata": {},
   "outputs": [],
   "source": [
    "#Bottlenecks---->Inference data and convert_to_inference_data"
   ]
  },
  {
   "cell_type": "code",
   "execution_count": null,
   "metadata": {},
   "outputs": [],
   "source": []
  }
 ],
 "metadata": {
  "kernelspec": {
   "display_name": "Python 3",
   "language": "python",
   "name": "python3"
  },
  "language_info": {
   "codemirror_mode": {
    "name": "ipython",
    "version": 3
   },
   "file_extension": ".py",
   "mimetype": "text/x-python",
   "name": "python",
   "nbconvert_exporter": "python",
   "pygments_lexer": "ipython3",
   "version": "3.6.5"
  }
 },
 "nbformat": 4,
 "nbformat_minor": 2
}
