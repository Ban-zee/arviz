{
 "cells": [
  {
   "cell_type": "code",
   "execution_count": 9,
   "metadata": {},
   "outputs": [],
   "source": [
    "import arviz as az\n",
    "from arviz.data import load_arviz_data\n",
    "from arviz.plots import plot_compare\n",
    "from line_profiler import LineProfiler"
   ]
  },
  {
   "cell_type": "code",
   "execution_count": 5,
   "metadata": {},
   "outputs": [],
   "source": [
    "school = load_arviz_data(\"centered_eight\")\n",
    "nschool = load_arviz_data(\"non_centered_eight\")\n",
    "compare_dict = {\"1\":school,\"2\":nschool}"
   ]
  },
  {
   "cell_type": "code",
   "execution_count": 6,
   "metadata": {},
   "outputs": [],
   "source": [
    "pd = az.stats.compare(compare_dict)"
   ]
  },
  {
   "cell_type": "code",
   "execution_count": 8,
   "metadata": {},
   "outputs": [
    {
     "data": {
      "text/plain": [
       "<matplotlib.axes._subplots.AxesSubplot at 0x7f06c3ca9320>"
      ]
     },
     "execution_count": 8,
     "metadata": {},
     "output_type": "execute_result"
    },
    {
     "data": {
      "image/png": "[encoded data removed]",
      "text/plain": [
       "<Figure size 432x144 with 1 Axes>"
      ]
     },
     "metadata": {},
     "output_type": "display_data"
    }
   ],
   "source": [
    "plot_compare(pd)"
   ]
  },
  {
   "cell_type": "code",
   "execution_count": 10,
   "metadata": {},
   "outputs": [
    {
     "name": "stdout",
     "output_type": "stream",
     "text": [
      "Timer unit: 1e-06 s\n",
      "\n",
      "Total time: 0.097385 s\n",
      "File: /home/banzee/Desktop/arviz/arviz/plots/compareplot.py\n",
      "Function: plot_compare at line 7\n",
      "\n",
      "Line #      Hits         Time  Per Hit   % Time  Line Contents\n",
      "==============================================================\n",
      "     7                                           def plot_compare(\n",
      "     8                                               comp_df,\n",
      "     9                                               insample_dev=True,\n",
      "    10                                               plot_standard_error=True,\n",
      "    11                                               plot_ic_diff=True,\n",
      "    12                                               figsize=None,\n",
      "    13                                               textsize=None,\n",
      "    14                                               plot_kwargs=None,\n",
      "    15                                               ax=None,\n",
      "    16                                           ):\n",
      "    17                                               \"\"\"\n",
      "    18                                               Summary plot for model comparison.\n",
      "    19                                           \n",
      "    20                                               This plot is in the style of the one used in the book Statistical Rethinking (Chapter 6)\n",
      "    21                                               by Richard McElreath.\n",
      "    22                                           \n",
      "    23                                               Notes\n",
      "    24                                               -----\n",
      "    25                                               Defaults to comparing Widely Accepted Information Criterion (WAIC) if present in comp_df column,\n",
      "    26                                               otherwise compares Leave-one-out (loo)\n",
      "    27                                           \n",
      "    28                                           \n",
      "    29                                               Parameters\n",
      "    30                                               ----------\n",
      "    31                                               comp_df: pd.DataFrame\n",
      "    32                                                   Result of the `az.compare()` method\n",
      "    33                                               insample_dev : bool, optional\n",
      "    34                                                   Plot in-sample deviance, that is the value of the information criteria without the\n",
      "    35                                                   penalization given by the effective number of parameters (pIC). Defaults to True\n",
      "    36                                               plot_standard_error : bool, optional\n",
      "    37                                                   Plot the standard error of the information criteria estimate. Defaults to True\n",
      "    38                                               plot_ic_diff : bool, optional\n",
      "    39                                                   Plot standard error of the difference in information criteria between each model\n",
      "    40                                                    and the top-ranked model. Defaults to True\n",
      "    41                                               figsize : tuple, optional\n",
      "    42                                                   If None, size is (6, num of models) inches\n",
      "    43                                               textsize: float\n",
      "    44                                                   Text size scaling factor for labels, titles and lines. If None it will be autoscaled based\n",
      "    45                                                   on figsize.\n",
      "    46                                               plot_kwargs : dict, optional\n",
      "    47                                                   Optional arguments for plot elements. Currently accepts 'color_ic',\n",
      "    48                                                   'marker_ic', 'color_insample_dev', 'marker_insample_dev', 'color_dse',\n",
      "    49                                                   'marker_dse', 'ls_min_ic' 'color_ls_min_ic',  'fontsize'\n",
      "    50                                               ax : axes, optional\n",
      "    51                                                   Matplotlib axes\n",
      "    52                                           \n",
      "    53                                               Returns\n",
      "    54                                               -------\n",
      "    55                                               ax : matplotlib axes\n",
      "    56                                           \n",
      "    57                                           \n",
      "    58                                               Examples\n",
      "    59                                               --------\n",
      "    60                                               Show default compare plot\n",
      "    61                                           \n",
      "    62                                               .. plot::\n",
      "    63                                                   :context: close-figs\n",
      "    64                                           \n",
      "    65                                                   >>> import arviz as az\n",
      "    66                                                   >>> model_compare = az.compare({'Centered 8 schools': az.load_arviz_data('centered_eight'),\n",
      "    67                                                   >>>                  'Non-centered 8 schools': az.load_arviz_data('non_centered_eight')})\n",
      "    68                                                   >>> az.plot_compare(model_compare)\n",
      "    69                                           \n",
      "    70                                               Plot standard error and information criteria difference only\n",
      "    71                                           \n",
      "    72                                               .. plot::\n",
      "    73                                                   :context: close-figs\n",
      "    74                                           \n",
      "    75                                                   >>> az.plot_compare(model_compare, insample_dev=False)\n",
      "    76                                           \n",
      "    77                                               \"\"\"\n",
      "    78         1          5.0      5.0      0.0      if figsize is None:\n",
      "    79         1         40.0     40.0      0.0          figsize = (6, len(comp_df))\n",
      "    80                                           \n",
      "    81         1        106.0    106.0      0.1      figsize, ax_labelsize, _, xt_labelsize, linewidth, _ = _scale_fig_size(figsize, textsize, 1, 1)\n",
      "    82                                           \n",
      "    83         1          4.0      4.0      0.0      if ax is None:\n",
      "    84         1      52162.0  52162.0     53.6          _, ax = plt.subplots(figsize=figsize, constrained_layout=True)\n",
      "    85                                           \n",
      "    86         1          9.0      9.0      0.0      if plot_kwargs is None:\n",
      "    87         1          6.0      6.0      0.0          plot_kwargs = {}\n",
      "    88                                           \n",
      "    89         1        256.0    256.0      0.3      yticks_pos, step = np.linspace(0, -1, (comp_df.shape[0] * 2) - 1, retstep=True)\n",
      "    90         1         32.0     32.0      0.0      yticks_pos[1::2] = yticks_pos[1::2] + step / 2\n",
      "    91                                           \n",
      "    92         1          9.0      9.0      0.0      yticks_labels = [\"\"] * len(yticks_pos)\n",
      "    93                                           \n",
      "    94         1          6.0      6.0      0.0      _information_criterion = [\"waic\", \"loo\"]\n",
      "    95         1          7.0      7.0      0.0      for information_criterion in _information_criterion:\n",
      "    96         1         30.0     30.0      0.0          if information_criterion in comp_df.columns:\n",
      "    97         1          6.0      6.0      0.0              break\n",
      "    98                                               else:\n",
      "    99                                                   raise ValueError(\n",
      "   100                                                       \"comp_df must contain one of the following\"\n",
      "   101                                                       \" information criterion: {}\".format(_information_criterion)\n",
      "   102                                                   )\n",
      "   103                                           \n",
      "   104         1          7.0      7.0      0.0      if plot_ic_diff:\n",
      "   105         1         35.0     35.0      0.0          yticks_labels[0] = comp_df.index[0]\n",
      "   106         1        208.0    208.0      0.2          yticks_labels[2::2] = comp_df.index[1:]\n",
      "   107         1       3782.0   3782.0      3.9          ax.set_yticks(yticks_pos)\n",
      "   108         1         13.0     13.0      0.0          ax.errorbar(\n",
      "   109         1        582.0    582.0      0.6              x=comp_df[information_criterion].iloc[1:],\n",
      "   110         1          5.0      5.0      0.0              y=yticks_pos[1::2],\n",
      "   111         1        454.0    454.0      0.5              xerr=comp_df.dse[1:],\n",
      "   112         1          5.0      5.0      0.0              color=plot_kwargs.get(\"color_dse\", \"grey\"),\n",
      "   113         1          3.0      3.0      0.0              fmt=plot_kwargs.get(\"marker_dse\", \"^\"),\n",
      "   114         1          3.0      3.0      0.0              mew=linewidth,\n",
      "   115         1      14368.0  14368.0     14.8              elinewidth=linewidth,\n",
      "   116                                                   )\n",
      "   117                                           \n",
      "   118                                               else:\n",
      "   119                                                   yticks_labels = comp_df.index\n",
      "   120                                                   ax.set_yticks(yticks_pos[::2])\n",
      "   121                                           \n",
      "   122         1          5.0      5.0      0.0      if plot_standard_error:\n",
      "   123         1          4.0      4.0      0.0          ax.errorbar(\n",
      "   124         1         47.0     47.0      0.0              x=comp_df[information_criterion],\n",
      "   125         1          7.0      7.0      0.0              y=yticks_pos[::2],\n",
      "   126         1         59.0     59.0      0.1              xerr=comp_df.se,\n",
      "   127         1          3.0      3.0      0.0              color=plot_kwargs.get(\"color_ic\", \"k\"),\n",
      "   128         1          2.0      2.0      0.0              fmt=plot_kwargs.get(\"marker_ic\", \"o\"),\n",
      "   129         1          2.0      2.0      0.0              mfc=\"None\",\n",
      "   130         1          2.0      2.0      0.0              mew=linewidth,\n",
      "   131         1      10734.0  10734.0     11.0              lw=linewidth,\n",
      "   132                                                   )\n",
      "   133                                               else:\n",
      "   134                                                   ax.plot(\n",
      "   135                                                       comp_df[information_criterion],\n",
      "   136                                                       yticks_pos[::2],\n",
      "   137                                                       color=plot_kwargs.get(\"color_ic\", \"k\"),\n",
      "   138                                                       marker=plot_kwargs.get(\"marker_ic\", \"o\"),\n",
      "   139                                                       mfc=\"None\",\n",
      "   140                                                       mew=linewidth,\n",
      "   141                                                       lw=0,\n",
      "   142                                                   )\n",
      "   143                                           \n",
      "   144         1          4.0      4.0      0.0      if insample_dev:\n",
      "   145         1          5.0      5.0      0.0          ax.plot(\n",
      "   146         1       2085.0   2085.0      2.1              comp_df[information_criterion] - (2 * comp_df[\"p_\" + information_criterion]),\n",
      "   147         1         14.0     14.0      0.0              yticks_pos[::2],\n",
      "   148         1          8.0      8.0      0.0              color=plot_kwargs.get(\"color_insample_dev\", \"k\"),\n",
      "   149         1          6.0      6.0      0.0              marker=plot_kwargs.get(\"marker_insample_dev\", \"o\"),\n",
      "   150         1          5.0      5.0      0.0              mew=linewidth,\n",
      "   151         1       6133.0   6133.0      6.3              lw=0,\n",
      "   152                                                   )\n",
      "   153                                           \n",
      "   154         1          5.0      5.0      0.0      ax.axvline(\n",
      "   155         1        169.0    169.0      0.2          comp_df[information_criterion].iloc[0],\n",
      "   156         1          4.0      4.0      0.0          ls=plot_kwargs.get(\"ls_min_ic\", \"--\"),\n",
      "   157         1          3.0      3.0      0.0          color=plot_kwargs.get(\"color_ls_min_ic\", \"grey\"),\n",
      "   158         1       4151.0   4151.0      4.3          lw=linewidth,\n",
      "   159                                               )\n",
      "   160                                           \n",
      "   161         1          6.0      6.0      0.0      scale_col = information_criterion + \"_scale\"\n",
      "   162         1         24.0     24.0      0.0      if scale_col in comp_df:\n",
      "   163         1        141.0    141.0      0.1          scale = comp_df[scale_col].iloc[0].capitalize()\n",
      "   164                                               else:\n",
      "   165                                                   scale = \"Deviance\"\n",
      "   166         1         97.0     97.0      0.1      ax.set_xlabel(scale, fontsize=ax_labelsize)\n",
      "   167         1        187.0    187.0      0.2      ax.set_yticklabels(yticks_labels)\n",
      "   168         1        347.0    347.0      0.4      ax.set_ylim(-1 + step, 0 - step)\n",
      "   169         1        979.0    979.0      1.0      ax.tick_params(labelsize=xt_labelsize)\n",
      "   170                                           \n",
      "   171         1          4.0      4.0      0.0      return ax\n",
      "\n"
     ]
    },
    {
     "data": {
      "image/png": "[encoded data removed]",
      "text/plain": [
       "<Figure size 432x144 with 1 Axes>"
      ]
     },
     "metadata": {},
     "output_type": "display_data"
    }
   ],
   "source": [
    "lp = LineProfiler()\n",
    "wrapper = lp(plot_compare)\n",
    "wrapper(pd)\n",
    "lp.print_stats()"
   ]
  },
  {
   "cell_type": "code",
   "execution_count": 11,
   "metadata": {},
   "outputs": [],
   "source": [
    "#All matplotlib bottlenecks,not ideal for numba"
   ]
  },
  {
   "cell_type": "code",
   "execution_count": null,
   "metadata": {},
   "outputs": [],
   "source": []
  }
 ],
 "metadata": {
  "kernelspec": {
   "display_name": "Python 3",
   "language": "python",
   "name": "python3"
  },
  "language_info": {
   "codemirror_mode": {
    "name": "ipython",
    "version": 3
   },
   "file_extension": ".py",
   "mimetype": "text/x-python",
   "name": "python",
   "nbconvert_exporter": "python",
   "pygments_lexer": "ipython3",
   "version": "3.6.5"
  }
 },
 "nbformat": 4,
 "nbformat_minor": 2
}
