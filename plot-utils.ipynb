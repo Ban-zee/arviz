{
 "cells": [
  {
   "cell_type": "code",
   "execution_count": 1,
   "metadata": {},
   "outputs": [
    {
     "data": {
      "text/plain": [
       "'PLOT_UTILS'"
      ]
     },
     "execution_count": 1,
     "metadata": {},
     "output_type": "execute_result"
    }
   ],
   "source": [
    "\"\"\"\"\"\"\"\"\"\"\"\"\"\"\"\"\"\"\"\"\"\"\"\"\"\"\"\"\"\"\"\"\"\"\"\"\"\"\"\"\"\"\"PLOT_UTILS\"\"\"\"\"\"\"\"\"\"\"\"\"\"\"\"\"\"\"\"\"\"\"\"\"\"\"\"\"\"\"\"\"\"\"\"\"\"\"\"\"\"\"\"\"\"\"\"\"\"\"\"\"\"\"\"\"\"\"\"\"\"\"\"\"\"\"\"\""
   ]
  },
  {
   "cell_type": "code",
   "execution_count": 1,
   "metadata": {},
   "outputs": [],
   "source": [
    "from itertools import product\n",
    "from line_profiler import LineProfiler\n",
    "import numpy as np\n",
    "import matplotlib.pyplot as plt\n",
    "import matplotlib as mpl\n",
    "import xarray as xr\n",
    "import numba\n",
    "from arviz.data import load_arviz_data"
   ]
  },
  {
   "cell_type": "code",
   "execution_count": 3,
   "metadata": {},
   "outputs": [],
   "source": [
    "def make_2d(ary):\n",
    "    dim_0, *_ = np.atleast_1d(ary).shape\n",
    "    print(dim_0, *_)\n",
    "    return ary.reshape(dim_0, -1, order=\"F\")"
   ]
  },
  {
   "cell_type": "code",
   "execution_count": 4,
   "metadata": {},
   "outputs": [
    {
     "name": "stdout",
     "output_type": "stream",
     "text": [
      "100 100 100\n"
     ]
    },
    {
     "data": {
      "text/plain": [
       "array([[ 0.54274803, -0.20330926,  0.8220762 , ...,  0.46404236,\n",
       "        -1.05728914,  0.02055792],\n",
       "       [ 0.27257693,  0.40323913, -2.01143283, ...,  0.12063357,\n",
       "         1.04820896,  0.36745557],\n",
       "       [ 0.80804887, -0.7996404 , -0.88809632, ...,  0.98012719,\n",
       "         1.23568269, -0.36362257],\n",
       "       ...,\n",
       "       [-0.32542601, -2.49209461, -0.5097057 , ..., -0.01428286,\n",
       "        -0.22656544,  0.61643566],\n",
       "       [ 0.76143337, -1.12513657, -1.23516957, ..., -1.24504894,\n",
       "         0.86450795,  1.02210676],\n",
       "       [ 0.84701226,  0.65407616, -0.73354398, ..., -0.51274676,\n",
       "         1.97933944, -0.58934219]])"
      ]
     },
     "execution_count": 4,
     "metadata": {},
     "output_type": "execute_result"
    }
   ],
   "source": [
    "make_2d(np.random.randn(100,100, 100))"
   ]
  },
  {
   "cell_type": "code",
   "execution_count": 5,
   "metadata": {},
   "outputs": [
    {
     "name": "stdout",
     "output_type": "stream",
     "text": [
      "100 100 100\n",
      "Timer unit: 1e-06 s\n",
      "\n",
      "Total time: 0.01203 s\n",
      "File: <ipython-input-3-f14325e79911>\n",
      "Function: make_2d at line 1\n",
      "\n",
      "Line #      Hits         Time  Per Hit   % Time  Line Contents\n",
      "==============================================================\n",
      "     1                                           def make_2d(ary):\n",
      "     2         1         38.0     38.0      0.3      dim_0, *_ = np.atleast_1d(ary).shape\n",
      "     3         1        870.0    870.0      7.2      print(dim_0, *_)\n",
      "     4         1      11122.0  11122.0     92.5      return ary.reshape(dim_0, -1, order=\"F\")\n",
      "\n"
     ]
    }
   ],
   "source": [
    "lp = LineProfiler()\n",
    "wrapper = lp(make_2d)\n",
    "wrapper(np.random.randn(100,100, 100))\n",
    "lp.print_stats()"
   ]
  },
  {
   "cell_type": "code",
   "execution_count": 6,
   "metadata": {},
   "outputs": [],
   "source": [
    "#nopython numba is compatible only with reshape(one_parameter)"
   ]
  },
  {
   "cell_type": "code",
   "execution_count": 7,
   "metadata": {},
   "outputs": [],
   "source": [
    "def selection_to_string(selection):\n",
    "    return \", \".join([\"{}\".format(v) for _, v in selection.items()])\n"
   ]
  },
  {
   "cell_type": "code",
   "execution_count": 8,
   "metadata": {},
   "outputs": [
    {
     "data": {
      "text/plain": [
       "'oo, 000'"
      ]
     },
     "execution_count": 8,
     "metadata": {},
     "output_type": "execute_result"
    }
   ],
   "source": [
    "dict = {\"key:1\":\"oo\", \"key_2\":\"000\"}\n",
    "selection_to_string(dict)"
   ]
  },
  {
   "cell_type": "code",
   "execution_count": 9,
   "metadata": {},
   "outputs": [],
   "source": [
    "\n",
    "def _scale_fig_size(figsize, textsize, rows=1, cols=1):\n",
    "    params = mpl.rcParams\n",
    "    rc_width, rc_height = tuple(params[\"figure.figsize\"])\n",
    "    rc_ax_labelsize = params[\"axes.labelsize\"]\n",
    "    rc_titlesize = params[\"axes.titlesize\"]\n",
    "    rc_xt_labelsize = params[\"xtick.labelsize\"]\n",
    "    rc_linewidth = params[\"lines.linewidth\"]\n",
    "    rc_markersize = params[\"lines.markersize\"]\n",
    "    if isinstance(rc_ax_labelsize, str):\n",
    "        rc_ax_labelsize = 15\n",
    "    if isinstance(rc_titlesize, str):\n",
    "        rc_titlesize = 16\n",
    "    if isinstance(rc_xt_labelsize, str):\n",
    "        rc_xt_labelsize = 14\n",
    "\n",
    "    if figsize is None:\n",
    "        width, height = rc_width, rc_height\n",
    "        sff = 1 if (rows == cols == 1) else 1.15\n",
    "        width = width * cols * sff\n",
    "        height = height * rows * sff\n",
    "    else:\n",
    "        width, height = figsize\n",
    "\n",
    "    if textsize is not None:\n",
    "        scale_factor = textsize / rc_xt_labelsize\n",
    "    elif rows == cols == 1:\n",
    "        scale_factor = ((width * height) / (rc_width * rc_height)) ** 0.5\n",
    "    else:\n",
    "        scale_factor = 1\n",
    "\n",
    "    ax_labelsize = rc_ax_labelsize * scale_factor\n",
    "    titlesize = rc_titlesize * scale_factor\n",
    "    xt_labelsize = rc_xt_labelsize * scale_factor\n",
    "    linewidth = rc_linewidth * scale_factor\n",
    "    markersize = rc_markersize * scale_factor\n",
    "\n",
    "    return (width, height), ax_labelsize, titlesize, xt_labelsize, linewidth, markersize\n",
    "\n"
   ]
  },
  {
   "cell_type": "code",
   "execution_count": 10,
   "metadata": {},
   "outputs": [
    {
     "name": "stdout",
     "output_type": "stream",
     "text": [
      "Timer unit: 1e-06 s\n",
      "\n",
      "Total time: 0.000154 s\n",
      "File: <ipython-input-9-d486bf7299a1>\n",
      "Function: _scale_fig_size at line 2\n",
      "\n",
      "Line #      Hits         Time  Per Hit   % Time  Line Contents\n",
      "==============================================================\n",
      "     2                                           def _scale_fig_size(figsize, textsize, rows=1, cols=1):\n",
      "     3         1          7.0      7.0      4.5      params = mpl.rcParams\n",
      "     4         1         27.0     27.0     17.5      rc_width, rc_height = tuple(params[\"figure.figsize\"])\n",
      "     5         1         12.0     12.0      7.8      rc_ax_labelsize = params[\"axes.labelsize\"]\n",
      "     6         1         10.0     10.0      6.5      rc_titlesize = params[\"axes.titlesize\"]\n",
      "     7         1         10.0     10.0      6.5      rc_xt_labelsize = params[\"xtick.labelsize\"]\n",
      "     8         1         10.0     10.0      6.5      rc_linewidth = params[\"lines.linewidth\"]\n",
      "     9         1         11.0     11.0      7.1      rc_markersize = params[\"lines.markersize\"]\n",
      "    10         1          4.0      4.0      2.6      if isinstance(rc_ax_labelsize, str):\n",
      "    11         1          3.0      3.0      1.9          rc_ax_labelsize = 15\n",
      "    12         1          3.0      3.0      1.9      if isinstance(rc_titlesize, str):\n",
      "    13         1          3.0      3.0      1.9          rc_titlesize = 16\n",
      "    14         1          3.0      3.0      1.9      if isinstance(rc_xt_labelsize, str):\n",
      "    15         1          3.0      3.0      1.9          rc_xt_labelsize = 14\n",
      "    16                                           \n",
      "    17         1          3.0      3.0      1.9      if figsize is None:\n",
      "    18         1          3.0      3.0      1.9          width, height = rc_width, rc_height\n",
      "    19         1          4.0      4.0      2.6          sff = 1 if (rows == cols == 1) else 1.15\n",
      "    20         1          5.0      5.0      3.2          width = width * cols * sff\n",
      "    21         1          3.0      3.0      1.9          height = height * rows * sff\n",
      "    22                                               else:\n",
      "    23                                                   width, height = figsize\n",
      "    24                                           \n",
      "    25         1          3.0      3.0      1.9      if textsize is not None:\n",
      "    26                                                   scale_factor = textsize / rc_xt_labelsize\n",
      "    27         1          3.0      3.0      1.9      elif rows == cols == 1:\n",
      "    28         1          6.0      6.0      3.9          scale_factor = ((width * height) / (rc_width * rc_height)) ** 0.5\n",
      "    29                                               else:\n",
      "    30                                                   scale_factor = 1\n",
      "    31                                           \n",
      "    32         1          3.0      3.0      1.9      ax_labelsize = rc_ax_labelsize * scale_factor\n",
      "    33         1          3.0      3.0      1.9      titlesize = rc_titlesize * scale_factor\n",
      "    34         1          3.0      3.0      1.9      xt_labelsize = rc_xt_labelsize * scale_factor\n",
      "    35         1          2.0      2.0      1.3      linewidth = rc_linewidth * scale_factor\n",
      "    36         1          3.0      3.0      1.9      markersize = rc_markersize * scale_factor\n",
      "    37                                           \n",
      "    38         1          4.0      4.0      2.6      return (width, height), ax_labelsize, titlesize, xt_labelsize, linewidth, markersize\n",
      "\n"
     ]
    }
   ],
   "source": [
    "lp = LineProfiler()\n",
    "wrapper = lp(_scale_fig_size)\n",
    "wrapper(None, None)\n",
    "lp.print_stats()"
   ]
  },
  {
   "cell_type": "code",
   "execution_count": 11,
   "metadata": {},
   "outputs": [],
   "source": [
    "# Nothing to optimize here\n"
   ]
  },
  {
   "cell_type": "code",
   "execution_count": 12,
   "metadata": {},
   "outputs": [],
   "source": [
    "def get_bins(values):\n",
    "    x_min = values.min().astype(int)\n",
    "    x_max = values.max().astype(int)\n",
    "\n",
    "    # Sturges histogram bin estimator\n",
    "    bins_sturges = (x_max - x_min) / (np.log2(values.size) + 1)\n",
    "\n",
    "    # The Freedman-Diaconis histogram bin estimator.\n",
    "    iqr = np.subtract(*np.percentile(values, [75, 25]))  # pylint: disable=assignment-from-no-return\n",
    "    bins_fd = 2 * iqr * values.size ** (-1 / 3)\n",
    "\n",
    "    width = round(np.max([1, bins_sturges, bins_fd])).astype(int)\n",
    "\n",
    "    return np.arange(x_min, x_max + width + 1, width)"
   ]
  },
  {
   "cell_type": "code",
   "execution_count": 13,
   "metadata": {},
   "outputs": [],
   "source": [
    "x = np.random.randn(100)"
   ]
  },
  {
   "cell_type": "code",
   "execution_count": 14,
   "metadata": {},
   "outputs": [
    {
     "data": {
      "text/plain": [
       "array([-2, -1,  0,  1,  2,  3])"
      ]
     },
     "execution_count": 14,
     "metadata": {},
     "output_type": "execute_result"
    }
   ],
   "source": [
    "get_bins(x)"
   ]
  },
  {
   "cell_type": "code",
   "execution_count": 15,
   "metadata": {},
   "outputs": [
    {
     "data": {
      "text/plain": [
       "array([-2.41057539, -1.92724668, -1.44391797, -0.96058926, -0.47726055,\n",
       "        0.00606816,  0.48939686,  0.97272557,  1.45605428,  1.93938299,\n",
       "        2.4227117 ])"
      ]
     },
     "execution_count": 15,
     "metadata": {},
     "output_type": "execute_result"
    }
   ],
   "source": [
    "_, bins = np.histogram(x)\n",
    "bins"
   ]
  },
  {
   "cell_type": "code",
   "execution_count": 16,
   "metadata": {},
   "outputs": [],
   "source": [
    "def default_grid(n_items, max_cols=4, min_cols=3):  # noqa: D202\n",
    "    def in_bounds(val):\n",
    "        return np.clip(val, min_cols, max_cols)\n",
    "\n",
    "    if n_items <= max_cols:\n",
    "        return 1, n_items\n",
    "    ideal = in_bounds(round(n_items ** 0.5))\n",
    "\n",
    "    for offset in (0, 1, -1, 2, -2):\n",
    "        cols = in_bounds(ideal + offset)\n",
    "        rows, extra = divmod(n_items, cols)\n",
    "        if extra == 0:\n",
    "            return rows, cols\n",
    "    return n_items // ideal + 1, ideal"
   ]
  },
  {
   "cell_type": "code",
   "execution_count": 17,
   "metadata": {},
   "outputs": [
    {
     "name": "stdout",
     "output_type": "stream",
     "text": [
      "Timer unit: 1e-06 s\n",
      "\n",
      "Total time: 9.3e-05 s\n",
      "File: <ipython-input-16-9c94a7ff0adc>\n",
      "Function: default_grid at line 1\n",
      "\n",
      "Line #      Hits         Time  Per Hit   % Time  Line Contents\n",
      "==============================================================\n",
      "     1                                           def default_grid(n_items, max_cols=4, min_cols=3):  # noqa: D202\n",
      "     2         1          3.0      3.0      3.2      def in_bounds(val):\n",
      "     3                                                   return np.clip(val, min_cols, max_cols)\n",
      "     4                                           \n",
      "     5         1          2.0      2.0      2.2      if n_items <= max_cols:\n",
      "     6                                                   return 1, n_items\n",
      "     7         1         61.0     61.0     65.6      ideal = in_bounds(round(n_items ** 0.5))\n",
      "     8                                           \n",
      "     9         1          1.0      1.0      1.1      for offset in (0, 1, -1, 2, -2):\n",
      "    10         1         17.0     17.0     18.3          cols = in_bounds(ideal + offset)\n",
      "    11         1          3.0      3.0      3.2          rows, extra = divmod(n_items, cols)\n",
      "    12         1          5.0      5.0      5.4          if extra == 0:\n",
      "    13         1          1.0      1.0      1.1              return rows, cols\n",
      "    14                                               return n_items // ideal + 1, ideal\n",
      "\n"
     ]
    }
   ],
   "source": [
    "lp = LineProfiler()\n",
    "wrapper = lp(default_grid)\n",
    "wrapper(50,10,10)\n",
    "lp.print_stats()"
   ]
  },
  {
   "cell_type": "code",
   "execution_count": 18,
   "metadata": {},
   "outputs": [],
   "source": [
    "def _create_axes_grid(length_plotters, rows, cols, **kwargs):\n",
    "    kwargs.setdefault(\"constrained_layout\", True)\n",
    "    fig, ax = plt.subplots(rows, cols, **kwargs)\n",
    "    ax = np.ravel(ax)\n",
    "    extra = (rows * cols) - length_plotters\n",
    "    if extra:\n",
    "        for i in range(1, extra + 1):\n",
    "            ax[-i].set_axis_off()\n",
    "        ax = ax[:-extra]\n",
    "    return fig, ax\n"
   ]
  },
  {
   "cell_type": "code",
   "execution_count": null,
   "metadata": {},
   "outputs": [
    {
     "name": "stdout",
     "output_type": "stream",
     "text": [
      "Timer unit: 1e-06 s\n",
      "\n",
      "Total time: 7.39233 s\n",
      "File: <ipython-input-18-d0a5bdc5dfb8>\n",
      "Function: _create_axes_grid at line 1\n",
      "\n",
      "Line #      Hits         Time  Per Hit   % Time  Line Contents\n",
      "==============================================================\n",
      "     1                                           def _create_axes_grid(length_plotters, rows, cols, **kwargs):\n",
      "     2         1          3.0      3.0      0.0      kwargs.setdefault(\"constrained_layout\", True)\n",
      "     3         1    7391081.0 7391081.0    100.0      fig, ax = plt.subplots(rows, cols, **kwargs)\n",
      "     4         1         25.0     25.0      0.0      ax = np.ravel(ax)\n",
      "     5         1          2.0      2.0      0.0      extra = (rows * cols) - length_plotters\n",
      "     6         1          1.0      1.0      0.0      if extra:\n",
      "     7       136        132.0      1.0      0.0          for i in range(1, extra + 1):\n",
      "     8       135       1073.0      7.9      0.0              ax[-i].set_axis_off()\n",
      "     9         1          9.0      9.0      0.0          ax = ax[:-extra]\n",
      "    10         1          2.0      2.0      0.0      return fig, ax\n",
      "\n"
     ]
    }
   ],
   "source": [
    "lp = LineProfiler()\n",
    "wrapper = lp(_create_axes_grid)\n",
    "wrapper(5,10,14)\n",
    "lp.print_stats()"
   ]
  },
  {
   "cell_type": "code",
   "execution_count": 17,
   "metadata": {},
   "outputs": [],
   "source": [
    "def xarray_var_iter(data, var_names=None, combined=False, skip_dims=None, reverse_selections=False):\n",
    "    if skip_dims is None:\n",
    "        skip_dims = set()\n",
    "\n",
    "    if combined:\n",
    "        skip_dims = skip_dims.union({\"chain\", \"draw\"})\n",
    "    else:\n",
    "        skip_dims.add(\"draw\")\n",
    "\n",
    "    if var_names is None:\n",
    "        if isinstance(data, xr.Dataset):\n",
    "            var_names = list(data.data_vars)\n",
    "        elif isinstance(data, xr.DataArray):\n",
    "            var_names = [data.name]\n",
    "            data = {data.name: data}\n",
    "    \n",
    "    \n",
    "    for var_name in var_names:\n",
    "        if var_name in data:\n",
    "            new_dims = [dim for dim in data[var_name].dims if dim not in skip_dims]\n",
    "            vals = [purge_duplicates(data[var_name][dim].values) for dim in new_dims]\n",
    "            dims = [{k: v for k, v in zip(new_dims, prod)} for prod in product(*vals)]\n",
    "            if reverse_selections:\n",
    "                dims = reversed(dims)\n",
    "\n",
    "            for selection in dims:\n",
    "                yield var_name, selection, data[var_name].sel(**selection).values\n",
    "                \n",
    "def xarray_var_iter_new(data, var_names=None, combined=False, skip_dims=None, reverse_selections=False):\n",
    "    if skip_dims is None:\n",
    "        skip_dims = set()\n",
    "\n",
    "    if combined:\n",
    "        skip_dims = skip_dims.union({\"chain\", \"draw\"})\n",
    "    else:\n",
    "        skip_dims.add(\"draw\")\n",
    "\n",
    "    if var_names is None:\n",
    "        if isinstance(data, xr.Dataset):\n",
    "            var_names = list(data.data_vars)\n",
    "        elif isinstance(data, xr.DataArray):\n",
    "            var_names = [data.name]\n",
    "            data = {data.name: data}\n",
    "    \n",
    "    \n",
    "    for var_name in var_names:\n",
    "        if var_name in data:\n",
    "            new_dims = [dim for dim in data[var_name].dims if dim not in skip_dims]\n",
    "            vals = [purge_duplicates_jit(data[var_name][dim].values) for dim in new_dims]\n",
    "            dims = [{k: v for k, v in zip(new_dims, prod)} for prod in product(*vals)]\n",
    "            if reverse_selections:\n",
    "                dims = reversed(dims)\n",
    "\n",
    "            for selection in dims:\n",
    "                yield var_name, selection, data[var_name].sel(**selection).values"
   ]
  },
  {
   "cell_type": "code",
   "execution_count": 19,
   "metadata": {},
   "outputs": [],
   "source": [
    "school = load_arviz_data(\"centered_eight\")"
   ]
  },
  {
   "cell_type": "code",
   "execution_count": 20,
   "metadata": {},
   "outputs": [
    {
     "data": {
      "text/plain": [
       "<generator object xarray_var_iter at 0x7f67ff67dba0>"
      ]
     },
     "execution_count": 20,
     "metadata": {},
     "output_type": "execute_result"
    }
   ],
   "source": [
    "xarray_var_iter(school)"
   ]
  },
  {
   "cell_type": "code",
   "execution_count": 10,
   "metadata": {},
   "outputs": [
    {
     "name": "stdout",
     "output_type": "stream",
     "text": [
      "Timer unit: 1e-06 s\n",
      "\n",
      "Total time: 0 s\n",
      "File: <ipython-input-4-7ffb2be6146f>\n",
      "Function: xarray_var_iter at line 1\n",
      "\n",
      "Line #      Hits         Time  Per Hit   % Time  Line Contents\n",
      "==============================================================\n",
      "     1                                           def xarray_var_iter(data, var_names=None, combined=False, skip_dims=None, reverse_selections=False):\n",
      "     2                                               if skip_dims is None:\n",
      "     3                                                   skip_dims = set()\n",
      "     4                                           \n",
      "     5                                               if combined:\n",
      "     6                                                   skip_dims = skip_dims.union({\"chain\", \"draw\"})\n",
      "     7                                               else:\n",
      "     8                                                   skip_dims.add(\"draw\")\n",
      "     9                                           \n",
      "    10                                               if var_names is None:\n",
      "    11                                                   if isinstance(data, xr.Dataset):\n",
      "    12                                                       var_names = list(data.data_vars)\n",
      "    13                                                   elif isinstance(data, xr.DataArray):\n",
      "    14                                                       var_names = [data.name]\n",
      "    15                                                       data = {data.name: data}\n",
      "    16                                           \n",
      "    17                                               for var_name in var_names:\n",
      "    18                                                   if var_name in data:\n",
      "    19                                                       new_dims = [dim for dim in data[var_name].dims if dim not in skip_dims]\n",
      "    20                                                       vals = [purge_duplicates(data[var_name][dim].values) for dim in new_dims]\n",
      "    21                                                       dims = [{k: v for k, v in zip(new_dims, prod)} for prod in product(*vals)]\n",
      "    22                                                       if reverse_selections:\n",
      "    23                                                           dims = reversed(dims)\n",
      "    24                                           \n",
      "    25                                                       for selection in dims:\n",
      "    26                                                           yield var_name, selection, data[var_name].sel(**selection).values\n",
      "\n"
     ]
    }
   ],
   "source": [
    "lp = LineProfiler()\n",
    "wrapper = lp(xarray_var_iter)\n",
    "wrapper(school.posterior)\n",
    "lp.print_stats()"
   ]
  },
  {
   "cell_type": "code",
   "execution_count": 71,
   "metadata": {},
   "outputs": [],
   "source": [
    "def purge_duplicates(list_in):\n",
    "    _list = []\n",
    "    for item in list_in:\n",
    "        if item not in _list:\n",
    "            _list.append(item)\n",
    "    return _list\n",
    "\n",
    "@numba.njit\n",
    "def purge_duplicates_jit(list_in):\n",
    "    _list = []\n",
    "    for item in list_in:\n",
    "        if item not in _list:\n",
    "            _list.append(item)\n",
    "    return _list"
   ]
  },
  {
   "cell_type": "code",
   "execution_count": 7,
   "metadata": {},
   "outputs": [
    {
     "name": "stdout",
     "output_type": "stream",
     "text": [
      "9.45 µs ± 885 ns per loop (mean ± std. dev. of 7 runs, 100000 loops each)\n"
     ]
    }
   ],
   "source": [
    "%timeit purge_duplicates(np.random.randn(10))"
   ]
  },
  {
   "cell_type": "code",
   "execution_count": 8,
   "metadata": {},
   "outputs": [
    {
     "name": "stdout",
     "output_type": "stream",
     "text": [
      "3.7 µs ± 87.6 ns per loop (mean ± std. dev. of 7 runs, 100000 loops each)\n"
     ]
    }
   ],
   "source": [
    "%timeit purge_duplicates_jit(np.random.randn(10))"
   ]
  },
  {
   "cell_type": "code",
   "execution_count": 13,
   "metadata": {},
   "outputs": [],
   "source": [
    "def _create_axes_grid(length_plotters, rows, cols, **kwargs):\n",
    "    kwargs.setdefault(\"constrained_layout\", True)\n",
    "    fig, ax = plt.subplots(rows, cols, **kwargs)\n",
    "    ax = np.ravel(ax)\n",
    "    extra = (rows * cols) - length_plotters\n",
    "    if extra:\n",
    "        for i in range(1, extra + 1):\n",
    "            ax[-i].set_axis_off()\n",
    "        ax = ax[:-extra]\n",
    "    return fig, ax\n",
    "\n",
    "\n",
    "def _create_axes_grid_jit(length_plotters, rows, cols, **kwargs):\n",
    "    kwargs.setdefault(\"constrained_layout\", True)\n",
    "    fig, ax = plt.subplots(rows, cols, **kwargs)\n",
    "    ax = np.ravel(ax)\n",
    "    extra = (rows * cols) - length_plotters\n",
    "    if extra:\n",
    "        _extra_calc(ax, extra)\n",
    "    return fig, ax\n",
    "\n",
    "@numba.jit\n",
    "def _extra_calc(ax, extra):\n",
    "    for i in range(1, extra + 1):\n",
    "        ax[-i].set_axis_off()\n",
    "    ax = ax[:-extra]\n",
    "    return ax"
   ]
  },
  {
   "cell_type": "code",
   "execution_count": 11,
   "metadata": {},
   "outputs": [
    {
     "name": "stdout",
     "output_type": "stream",
     "text": [
      "399 ms ± 6.43 ms per loop (mean ± std. dev. of 7 runs, 1 loop each)\n"
     ]
    },
    {
     "data": {
      "image/png": "[encoded data removed]",
      "text/plain": [
       "<Figure size 432x288 with 25 Axes>"
      ]
     },
     "metadata": {},
     "output_type": "display_data"
    },
    {
     "data": {
      "image/png": "[encoded data removed]",
      "text/plain": [
       "<Figure size 432x288 with 25 Axes>"
      ]
     },
     "metadata": {},
     "output_type": "display_data"
    },
    {
     "data": {
      "image/png": "[encoded data removed]",
      "text/plain": [
       "<Figure size 432x288 with 25 Axes>"
      ]
     },
     "metadata": {},
     "output_type": "display_data"
    },
    {
     "data": {
      "image/png": "[encoded data removed]",
      "text/plain": [
       "<Figure size 432x288 with 25 Axes>"
      ]
     },
     "metadata": {},
     "output_type": "display_data"
    },
    {
     "data": {
      "image/png": "[encoded data removed]",
      "text/plain": [
       "<Figure size 432x288 with 25 Axes>"
      ]
     },
     "metadata": {},
     "output_type": "display_data"
    },
    {
     "data": {
      "image/png": "[encoded data removed]",
      "text/plain": [
       "<Figure size 432x288 with 25 Axes>"
      ]
     },
     "metadata": {},
     "output_type": "display_data"
    },
    {
     "data": {
      "image/png": "[encoded data removed]",
      "text/plain": [
       "<Figure size 432x288 with 25 Axes>"
      ]
     },
     "metadata": {},
     "output_type": "display_data"
    },
    {
     "data": {
      "image/png": "[encoded data removed]",
      "text/plain": [
       "<Figure size 432x288 with 25 Axes>"
      ]
     },
     "metadata": {},
     "output_type": "display_data"
    }
   ],
   "source": [
    "%timeit _create_axes_grid(10, 5,5)"
   ]
  },
  {
   "cell_type": "code",
   "execution_count": 14,
   "metadata": {},
   "outputs": [
    {
     "name": "stdout",
     "output_type": "stream",
     "text": [
      "400 ms ± 16.5 ms per loop (mean ± std. dev. of 7 runs, 1 loop each)\n"
     ]
    },
    {
     "data": {
      "image/png": "[encoded data removed]",
      "text/plain": [
       "<Figure size 432x288 with 25 Axes>"
      ]
     },
     "metadata": {},
     "output_type": "display_data"
    },
    {
     "data": {
      "image/png": "[encoded data removed]",
      "text/plain": [
       "<Figure size 432x288 with 25 Axes>"
      ]
     },
     "metadata": {},
     "output_type": "display_data"
    },
    {
     "data": {
      "image/png": "[encoded data removed]",
      "text/plain": [
       "<Figure size 432x288 with 25 Axes>"
      ]
     },
     "metadata": {},
     "output_type": "display_data"
    },
    {
     "data": {
      "image/png": "[encoded data removed]",
      "text/plain": [
       "<Figure size 432x288 with 25 Axes>"
      ]
     },
     "metadata": {},
     "output_type": "display_data"
    },
    {
     "data": {
      "image/png": "[encoded data removed]",
      "text/plain": [
       "<Figure size 432x288 with 25 Axes>"
      ]
     },
     "metadata": {},
     "output_type": "display_data"
    },
    {
     "data": {
      "image/png": "[encoded data removed]",
      "text/plain": [
       "<Figure size 432x288 with 25 Axes>"
      ]
     },
     "metadata": {},
     "output_type": "display_data"
    },
    {
     "data": {
      "image/png": "[encoded data removed]",
      "text/plain": [
       "<Figure size 432x288 with 25 Axes>"
      ]
     },
     "metadata": {},
     "output_type": "display_data"
    },
    {
     "data": {
      "image/png": "[encoded data removed]",
      "text/plain": [
       "<Figure size 432x288 with 25 Axes>"
      ]
     },
     "metadata": {},
     "output_type": "display_data"
    }
   ],
   "source": [
    "%timeit _create_axes_grid_jit(10,5,5)"
   ]
  },
  {
   "cell_type": "code",
   "execution_count": 15,
   "metadata": {},
   "outputs": [],
   "source": [
    "#no point jitting the loop\n"
   ]
  },
  {
   "cell_type": "code",
   "execution_count": 80,
   "metadata": {},
   "outputs": [],
   "source": [
    "\n",
    "\n",
    "def _var_iter(data, var_names=None, combined=False, skip_dims=None, reverse_selections=False):\n",
    "    if skip_dims is None:\n",
    "        skip_dims = set()\n",
    "\n",
    "    if combined:\n",
    "        skip_dims = skip_dims.union({\"chain\", \"draw\"})\n",
    "    else:\n",
    "        skip_dims.add(\"draw\")\n",
    "\n",
    "    if var_names is None:\n",
    "        if isinstance(data, xr.Dataset):\n",
    "            var_names = list(data.data_vars)\n",
    "        elif isinstance(data, xr.DataArray):\n",
    "            var_names = [data.name]\n",
    "            data = {data.name: data}\n",
    "\n",
    "    for var_name in var_names:\n",
    "        if var_name in data:\n",
    "            new_dims = dims(data, var_names, var_name, skip_dims)\n",
    "            vals = [purge_duplicates_jit(data[var_name][dim].values) for dim in new_dims]\n",
    "            dimx = zip_dims(data, new_dims, vals)\n",
    "            if reverse_selections:\n",
    "                dimx= reversed(dims)\n",
    "\n",
    "            for selection in dimx:\n",
    "                yield var_name, selection, data[var_name].sel(**selection).values\n",
    "\n",
    "@numba.njit\n",
    "def dims(data, var_names,var_name,skip_dims):\n",
    "    return [dim for dim in data[var_name].dims if dim not in skip_dims]\n",
    "\n",
    "@numba.njit\n",
    "def zip_dims(data, new_dims, vals):\n",
    "    [{k: v for k, v in zip(new_dims, prod)} for prod in product(*vals)]\n",
    "    \n",
    "    \n",
    "\n",
    "\n",
    "def xarray_var_iter(data, var_names=None, combined=False, skip_dims=None, reverse_selections=False):\n",
    "    if skip_dims is None:\n",
    "        skip_dims = set()\n",
    "\n",
    "    if combined:\n",
    "        skip_dims = skip_dims.union({\"chain\", \"draw\"})\n",
    "    else:\n",
    "        skip_dims.add(\"draw\")\n",
    "\n",
    "    if var_names is None:\n",
    "        if isinstance(data, xr.Dataset):\n",
    "            var_names = list(data.data_vars)\n",
    "        elif isinstance(data, xr.DataArray):\n",
    "            var_names = [data.name]\n",
    "            data = {data.name: data}\n",
    "\n",
    "    for var_name in var_names:\n",
    "        if var_name in data:\n",
    "            new_dims = [dim for dim in data[var_name].dims if dim not in skip_dims]\n",
    "            vals = [purge_duplicates(data[var_name][dim].values) for dim in new_dims]\n",
    "            dims = [{k: v for k, v in zip(new_dims, prod)} for prod in product(*vals)]\n",
    "            if reverse_selections:\n",
    "                dims = reversed(dims)\n",
    "\n",
    "            for selection in dims:\n",
    "                yield var_name, selection, data[var_name].sel(**selection).values"
   ]
  },
  {
   "cell_type": "code",
   "execution_count": 60,
   "metadata": {},
   "outputs": [
    {
     "name": "stdout",
     "output_type": "stream",
     "text": [
      "557 ns ± 14.3 ns per loop (mean ± std. dev. of 7 runs, 1000000 loops each)\n"
     ]
    }
   ],
   "source": [
    "%timeit _var_iter(school)"
   ]
  },
  {
   "cell_type": "code",
   "execution_count": 62,
   "metadata": {},
   "outputs": [
    {
     "name": "stdout",
     "output_type": "stream",
     "text": [
      "606 ns ± 17 ns per loop (mean ± std. dev. of 7 runs, 1000000 loops each)\n"
     ]
    }
   ],
   "source": [
    "%timeit xarray_var_iter(school)"
   ]
  },
  {
   "cell_type": "code",
   "execution_count": 63,
   "metadata": {},
   "outputs": [],
   "source": [
    "# X_ARRAY_VAR_ITER"
   ]
  },
  {
   "cell_type": "code",
   "execution_count": 68,
   "metadata": {},
   "outputs": [],
   "source": [
    "def make_label(var_name, selection, position=\"below\"):\n",
    "    \"\"\"Consistent labelling for plots.\n",
    "\n",
    "    Parameters\n",
    "    ----------\n",
    "    var_name : str\n",
    "       Name of the variable\n",
    "\n",
    "    selection : dict[Any] -> Any\n",
    "        Coordinates of the variable\n",
    "    position : whether to position the coordinates' label \"below\" (default) or \"beside\" the name\n",
    "               of the variable\n",
    "\n",
    "    Returns\n",
    "    -------\n",
    "    label\n",
    "        A text representation of the label\n",
    "    \"\"\"\n",
    "    if selection:\n",
    "        sel = selection_to_string(selection)\n",
    "        if position == \"below\":\n",
    "            sep = \"\\n\"\n",
    "        elif position == \"beside\":\n",
    "            sep = \" \"\n",
    "    else:\n",
    "        sep = sel = \"\"\n",
    "    return \"{}{}{}\".format(var_name, sep, sel)"
   ]
  },
  {
   "cell_type": "code",
   "execution_count": 69,
   "metadata": {},
   "outputs": [],
   "source": [
    "def xarray_to_ndarray(data, *, var_names=None, combined=True):\n",
    "    unpacked_data, unpacked_var_names, = [], []\n",
    "\n",
    "    # Merge chains and variables\n",
    "    for var_name, selection, data_array in xarray_var_iter(\n",
    "        data, var_names=var_names, combined=combined\n",
    "    ):\n",
    "        unpacked_data.append(data_array.flatten())\n",
    "        unpacked_var_names.append(make_label(var_name, selection))\n",
    "\n",
    "    return unpacked_var_names, np.array(unpacked_data)\n",
    "\n",
    "def xarray_to_ndarray_new(data, *, var_names=None, combined=True):\n",
    "    unpacked_data, unpacked_var_names, = [], []\n",
    "\n",
    "    # Merge chains and variables\n",
    "    for var_name, selection, data_array in _var_iter(\n",
    "        data, var_names=var_names, combined=combined\n",
    "    ):\n",
    "        unpacked_data.append(data_array.flatten())\n",
    "        unpacked_var_names.append(make_label(var_name, selection))\n",
    "\n",
    "    return unpacked_var_names, np.array(unpacked_data)"
   ]
  },
  {
   "cell_type": "code",
   "execution_count": 73,
   "metadata": {},
   "outputs": [],
   "source": [
    "def selection_to_string(selection):\n",
    "    \"\"\"Convert dictionary of coordinates to a string for labels.\n",
    "\n",
    "    Parameters\n",
    "    ----------\n",
    "    selection : dict[Any] -> Any\n",
    "\n",
    "    Returns\n",
    "    -------\n",
    "    str\n",
    "        key1: value1, key2: value2, ...\n",
    "    \"\"\"\n",
    "    return \", \".join([\"{}\".format(v) for _, v in selection.items()])"
   ]
  },
  {
   "cell_type": "code",
   "execution_count": 81,
   "metadata": {},
   "outputs": [
    {
     "name": "stdout",
     "output_type": "stream",
     "text": [
      "17.1 ms ± 3.14 ms per loop (mean ± std. dev. of 7 runs, 100 loops each)\n"
     ]
    }
   ],
   "source": [
    "%timeit xarray_to_ndarray(school.posterior)"
   ]
  },
  {
   "cell_type": "code",
   "execution_count": null,
   "metadata": {},
   "outputs": [],
   "source": []
  }
 ],
 "metadata": {
  "kernelspec": {
   "display_name": "Python 3",
   "language": "python",
   "name": "python3"
  },
  "language_info": {
   "codemirror_mode": {
    "name": "ipython",
    "version": 3
   },
   "file_extension": ".py",
   "mimetype": "text/x-python",
   "name": "python",
   "nbconvert_exporter": "python",
   "pygments_lexer": "ipython3",
   "version": "3.6.5"
  }
 },
 "nbformat": 4,
 "nbformat_minor": 2
}
